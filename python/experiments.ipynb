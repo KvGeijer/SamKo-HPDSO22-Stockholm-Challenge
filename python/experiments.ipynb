{
 "cells": [
  {
   "cell_type": "code",
   "execution_count": 1,
   "metadata": {},
   "outputs": [],
   "source": [
    "import numpy as np\n",
    "import pandas as pd\n",
    "import matplotlib.pyplot as plt\n",
    "\n",
    "plt.rcParams['figure.figsize'] = [12, 8]\n",
    "plt.rcParams['figure.dpi'] = 100\n",
    "\n",
    "airports = pd.read_csv(\"../data/airports.csv\")\n",
    "flights = pd.read_csv(\"../data/dat.csv\")\n"
   ]
  },
  {
   "cell_type": "code",
   "execution_count": 4,
   "metadata": {},
   "outputs": [
    {
     "data": {
      "text/plain": [
       "9.999999996068709e-06"
      ]
     },
     "execution_count": 4,
     "metadata": {},
     "output_type": "execute_result"
    }
   ],
   "source": [
    "from scipy.spatial.distance import cdist\n",
    "\n",
    "ax = airports.plot.scatter(\"lon\", \"lat\", s=0.3, c=\"red\")\n",
    "ax = flights.plot.scatter(\"src_lon\", \"src_lat\", s=0.1, c=\"blue\", ax=ax)\n",
    "ax = flights.plot.scatter(\"dst_lon\", \"dst_lat\", s=0.1, c=\"green\", ax=ax)\n",
    "\n",
    "points = np.array(airports[[\"lon\", \"lat\"]])\n",
    "\n",
    "dx = points[np.newaxis, :, 0] - points[:, np.newaxis, 0]\n",
    "dy = points[np.newaxis, :, 1] - points[:, np.newaxis, 1]\n",
    "dists = dx**2 + dy**2 + np.diag(np.ones(dx.shape[0]))\n",
    "v = np.sqrt(np.min(dists))\n",
    "v"
   ]
  }
 ],
 "metadata": {
  "kernelspec": {
   "display_name": "Python 3.8.10 64-bit",
   "language": "python",
   "name": "python3"
  },
  "language_info": {
   "codemirror_mode": {
    "name": "ipython",
    "version": 3
   },
   "file_extension": ".py",
   "mimetype": "text/x-python",
   "name": "python",
   "nbconvert_exporter": "python",
   "pygments_lexer": "ipython3",
   "version": "3.8.10"
  },
  "orig_nbformat": 4,
  "vscode": {
   "interpreter": {
    "hash": "916dbcbb3f70747c44a77c7bcd40155683ae19c65e1c03b4aa3499c5328201f1"
   }
  }
 },
 "nbformat": 4,
 "nbformat_minor": 2
}
